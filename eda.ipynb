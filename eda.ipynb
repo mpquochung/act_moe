{
 "cells": [
  {
   "cell_type": "code",
   "execution_count": 2,
   "id": "99aa41d1",
   "metadata": {},
   "outputs": [],
   "source": [
    "import h5py\n",
    "import sys\n",
    "\n",
    "def explore_hdf5(file_path):\n",
    "    def print_attrs(name, obj):\n",
    "        print(f\"\\nName: {name}\")\n",
    "        if isinstance(obj, h5py.Dataset):\n",
    "            print(f\"  Type: Dataset\")\n",
    "            print(f\"  Shape: {obj.shape}\")\n",
    "            print(f\"  Dtype: {obj.dtype}\")\n",
    "        elif isinstance(obj, h5py.Group):\n",
    "            print(f\"  Type: Group\")\n",
    "        # Print attributes if any\n",
    "        if obj.attrs:\n",
    "            print(\"  Attributes:\")\n",
    "            for key, val in obj.attrs.items():\n",
    "                print(f\"    {key}: {val}\")\n",
    "\n",
    "    with h5py.File(file_path, 'r') as f:\n",
    "        print(f\"Exploring file: {file_path}\")\n",
    "        f.visititems(print_attrs)"
   ]
  },
  {
   "cell_type": "code",
   "execution_count": 3,
   "id": "8fbf45e6",
   "metadata": {},
   "outputs": [
    {
     "name": "stdout",
     "output_type": "stream",
     "text": [
      "Exploring file: desmontrations/sim_insertion_human/episode_0.hdf5\n",
      "\n",
      "Name: action\n",
      "  Type: Dataset\n",
      "  Shape: (500, 14)\n",
      "  Dtype: float32\n",
      "\n",
      "Name: observations\n",
      "  Type: Group\n",
      "\n",
      "Name: observations/images\n",
      "  Type: Group\n",
      "\n",
      "Name: observations/images/top\n",
      "  Type: Dataset\n",
      "  Shape: (500, 480, 640, 3)\n",
      "  Dtype: uint8\n",
      "\n",
      "Name: observations/qpos\n",
      "  Type: Dataset\n",
      "  Shape: (500, 14)\n",
      "  Dtype: float32\n",
      "\n",
      "Name: observations/qvel\n",
      "  Type: Dataset\n",
      "  Shape: (500, 14)\n",
      "  Dtype: float32\n"
     ]
    }
   ],
   "source": [
    "explore_hdf5(file_path=\"desmontrations/sim_insertion_human/episode_0.hdf5\")"
   ]
  },
  {
   "cell_type": "code",
   "execution_count": null,
   "id": "7f4657f4",
   "metadata": {},
   "outputs": [],
   "source": []
  }
 ],
 "metadata": {
  "kernelspec": {
   "display_name": "RL",
   "language": "python",
   "name": "python3"
  },
  "language_info": {
   "codemirror_mode": {
    "name": "ipython",
    "version": 3
   },
   "file_extension": ".py",
   "mimetype": "text/x-python",
   "name": "python",
   "nbconvert_exporter": "python",
   "pygments_lexer": "ipython3",
   "version": "3.10.18"
  }
 },
 "nbformat": 4,
 "nbformat_minor": 5
}
